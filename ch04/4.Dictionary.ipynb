{
 "cells": [
  {
   "cell_type": "code",
   "execution_count": 1,
   "metadata": {},
   "outputs": [
    {
     "data": {
      "text/plain": [
       "'\\n날짜 : 2023-01-09\\n이름 : 박진휘\\n내용 : 파이썬 Map 실습하기\\n'"
      ]
     },
     "execution_count": 1,
     "metadata": {},
     "output_type": "execute_result"
    }
   ],
   "source": [
    "\"\"\"\n",
    "날짜 : 2023-01-09\n",
    "이름 : 박진휘\n",
    "내용 : 파이썬 Dictionary 실습하기\n",
    "\"\"\""
   ]
  },
  {
   "cell_type": "code",
   "execution_count": 6,
   "metadata": {},
   "outputs": [
    {
     "name": "stdout",
     "output_type": "stream",
     "text": [
      "dataset type :  <class 'dict'>\n",
      "dataset :  {'A': 'apple', 'B': 'banana', 'C': 'cherry'}\n",
      "dataset['A'] :  apple\n",
      "dataset['B'] :  banana\n",
      "dataset['C'] :  cherry\n"
     ]
    }
   ],
   "source": [
    "#Dictionary(== Map)\n",
    "dataset = {'A':'apple', 'B':'banana', 'C':'cherry'}\n",
    "print(\"dataset type : \", type(dataset))\n",
    "print('dataset : ', dataset)\n",
    "print(\"dataset['A'] : \", dataset['A'])\n",
    "print(\"dataset['B'] : \", dataset['B'])\n",
    "print(\"dataset['C'] : \", dataset['C'])"
   ]
  },
  {
   "cell_type": "code",
   "execution_count": 23,
   "metadata": {},
   "outputs": [
    {
     "name": "stdout",
     "output_type": "stream",
     "text": [
      "3\n",
      "부산\n",
      "7\n",
      "김유신\n"
     ]
    }
   ],
   "source": [
    "#활용\n",
    "dataset = {\n",
    "    101 : [1,2,3,4,5],\n",
    "    102 : ('서울','대전','대구','부산','광주'),\n",
    "    103 : {6,7,8,9},\n",
    "    104 : {'p1':'김유신', 'p2':'김춘추', 'p3':'장보고'}\n",
    "}\n",
    "print(dataset[101][2])\n",
    "print(dataset[102][3])\n",
    "print(list(dataset[103])[3])\n",
    "print(dataset[104]['p1'])"
   ]
  },
  {
   "cell_type": "code",
   "execution_count": 24,
   "metadata": {},
   "outputs": [
    {
     "name": "stdout",
     "output_type": "stream",
     "text": [
      "1 서울\n",
      "2 대전\n",
      "3 대구\n",
      "4 부산\n",
      "5 광주\n"
     ]
    }
   ],
   "source": [
    "#반복문\n",
    "dataset = {1:'서울', 2:'대전', 3:'대구', 4:'부산', 5:'광주'}\n",
    "\n",
    "for k,v in dataset.items():\n",
    "    print(k,v)"
   ]
  },
  {
   "cell_type": "code",
   "execution_count": null,
   "metadata": {},
   "outputs": [],
   "source": []
  }
 ],
 "metadata": {
  "kernelspec": {
   "display_name": "Python 3",
   "language": "python",
   "name": "python3"
  },
  "language_info": {
   "codemirror_mode": {
    "name": "ipython",
    "version": 3
   },
   "file_extension": ".py",
   "mimetype": "text/x-python",
   "name": "python",
   "nbconvert_exporter": "python",
   "pygments_lexer": "ipython3",
   "version": "3.11.1 (tags/v3.11.1:a7a450f, Dec  6 2022, 19:58:39) [MSC v.1934 64 bit (AMD64)]"
  },
  "orig_nbformat": 4,
  "vscode": {
   "interpreter": {
    "hash": "dbf767e0f0bb1fc4f1157b01ec74c1ba7962a2f75d955d0a0d402480431f3979"
   }
  }
 },
 "nbformat": 4,
 "nbformat_minor": 2
}
