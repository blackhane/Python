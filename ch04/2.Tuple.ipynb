{
 "cells": [
  {
   "cell_type": "code",
   "execution_count": 1,
   "metadata": {},
   "outputs": [
    {
     "data": {
      "text/plain": [
       "'\\n날짜 : 2023-01-09\\n이름 : 박진휘\\n내용 : 파이썬 Tuple 실습하기\\n'"
      ]
     },
     "execution_count": 1,
     "metadata": {},
     "output_type": "execute_result"
    }
   ],
   "source": [
    "\"\"\"\n",
    "날짜 : 2023-01-09\n",
    "이름 : 박진휘\n",
    "내용 : 파이썬 Tuple 실습하기\n",
    "\"\"\""
   ]
  },
  {
   "cell_type": "code",
   "execution_count": 4,
   "metadata": {},
   "outputs": [
    {
     "name": "stdout",
     "output_type": "stream",
     "text": [
      "dataset type :  <class 'tuple'>\n",
      "dataset[0] :  1\n",
      "dataset[1] :  2\n",
      "dataset[3] :  4\n"
     ]
    }
   ],
   "source": [
    "#Tuple(고정 리스트)\n",
    "dataset = (1,2,3,4,5)\n",
    "print(\"dataset type : \", type(dataset))\n",
    "print(\"dataset[0] : \", dataset[0])\n",
    "print(\"dataset[1] : \", dataset[1])\n",
    "print(\"dataset[3] : \", dataset[3])"
   ]
  },
  {
   "cell_type": "code",
   "execution_count": 5,
   "metadata": {},
   "outputs": [
    {
     "name": "stdout",
     "output_type": "stream",
     "text": [
      "dataset type : <class 'tuple'>\n"
     ]
    }
   ],
   "source": [
    "#Tuple(수정,추가,삭제 X)\n",
    "dataset = 1,2,3,4,5\n",
    "print('dataset type :', type(dataset))"
   ]
  }
 ],
 "metadata": {
  "kernelspec": {
   "display_name": "Python 3",
   "language": "python",
   "name": "python3"
  },
  "language_info": {
   "codemirror_mode": {
    "name": "ipython",
    "version": 3
   },
   "file_extension": ".py",
   "mimetype": "text/x-python",
   "name": "python",
   "nbconvert_exporter": "python",
   "pygments_lexer": "ipython3",
   "version": "3.11.1 (tags/v3.11.1:a7a450f, Dec  6 2022, 19:58:39) [MSC v.1934 64 bit (AMD64)]"
  },
  "orig_nbformat": 4,
  "vscode": {
   "interpreter": {
    "hash": "ca3167030a8377a7b82d5e665b459d458267ba920e721652be188ae573e682bb"
   }
  }
 },
 "nbformat": 4,
 "nbformat_minor": 2
}
