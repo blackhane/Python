{
 "cells": [
  {
   "cell_type": "code",
   "execution_count": 1,
   "metadata": {},
   "outputs": [
    {
     "data": {
      "text/plain": [
       "'\\n날짜 : 2023-01-09\\n이름 : 박진휘\\n내용 : 파이썬 Set 실습하기\\n'"
      ]
     },
     "execution_count": 1,
     "metadata": {},
     "output_type": "execute_result"
    }
   ],
   "source": [
    "\"\"\"\n",
    "날짜 : 2023-01-09\n",
    "이름 : 박진휘\n",
    "내용 : 파이썬 Set 실습하기\n",
    "\"\"\""
   ]
  },
  {
   "cell_type": "code",
   "execution_count": 3,
   "metadata": {},
   "outputs": [
    {
     "name": "stdout",
     "output_type": "stream",
     "text": [
      "dataset type :  <class 'set'>\n",
      "dataset :  {1, 2, 3, 4, 5}\n"
     ]
    }
   ],
   "source": [
    "#Set(중복허용 x)\n",
    "dataset = {1,2,3,4,5,3,2}\n",
    "print(\"dataset type : \", type(dataset))\n",
    "print(\"dataset : \", dataset)"
   ]
  },
  {
   "cell_type": "code",
   "execution_count": 4,
   "metadata": {},
   "outputs": [
    {
     "name": "stdout",
     "output_type": "stream",
     "text": [
      "data :  1\n",
      "data :  2\n",
      "data :  3\n",
      "data :  4\n",
      "data :  5\n"
     ]
    }
   ],
   "source": [
    "#집합 반복문\n",
    "dataset = {1,2,3,4,5,3,2}\n",
    "\n",
    "for data in dataset:\n",
    "    print('data : ', data)"
   ]
  },
  {
   "cell_type": "code",
   "execution_count": 7,
   "metadata": {},
   "outputs": [
    {
     "name": "stdout",
     "output_type": "stream",
     "text": [
      "listSet :  [1, 2, 3, 4, 5]\n",
      "listSet[0] :  1\n",
      "listSet[2] :  3\n",
      "listSet[3] :  4\n"
     ]
    }
   ],
   "source": [
    "#집합 > 리스트 변환\n",
    "dataset = {1,2,3,4,5,3,2}\n",
    "listSet = list(dataset)\n",
    "print('listSet : ', listSet)\n",
    "print('listSet[0] : ', listSet[0])\n",
    "print('listSet[2] : ', listSet[2])\n",
    "print('listSet[3] : ', listSet[3])"
   ]
  }
 ],
 "metadata": {
  "kernelspec": {
   "display_name": "Python 3",
   "language": "python",
   "name": "python3"
  },
  "language_info": {
   "codemirror_mode": {
    "name": "ipython",
    "version": 3
   },
   "file_extension": ".py",
   "mimetype": "text/x-python",
   "name": "python",
   "nbconvert_exporter": "python",
   "pygments_lexer": "ipython3",
   "version": "3.11.1 (tags/v3.11.1:a7a450f, Dec  6 2022, 19:58:39) [MSC v.1934 64 bit (AMD64)]"
  },
  "orig_nbformat": 4,
  "vscode": {
   "interpreter": {
    "hash": "dbf767e0f0bb1fc4f1157b01ec74c1ba7962a2f75d955d0a0d402480431f3979"
   }
  }
 },
 "nbformat": 4,
 "nbformat_minor": 2
}
