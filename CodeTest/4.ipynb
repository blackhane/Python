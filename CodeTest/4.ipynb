{
 "cells": [
  {
   "cell_type": "code",
   "execution_count": 6,
   "metadata": {},
   "outputs": [
    {
     "name": "stdout",
     "output_type": "stream",
     "text": [
      "0\n"
     ]
    }
   ],
   "source": [
    "\"\"\"\n",
    "2023-01-11\n",
    "박진휘\n",
    "코딩테스트 4-1\n",
    "\"\"\"\n",
    "n = int(input())\n",
    "n_list = list(map(int,input().split()))\n",
    "v = int(input())\n",
    "print(n_list.count(v))"
   ]
  },
  {
   "cell_type": "code",
   "execution_count": 7,
   "metadata": {},
   "outputs": [
    {
     "name": "stdout",
     "output_type": "stream",
     "text": [
      "1 4 2 3 "
     ]
    }
   ],
   "source": [
    "\"\"\"\n",
    "2023-01-11\n",
    "박진휘\n",
    "코딩테스트 4-2\n",
    "\"\"\"\n",
    "n, x = map(int,input().split())\n",
    "a = list(map(int,input().split()))\n",
    "for i in range (len(a)):\n",
    "    if a[i] < x:\n",
    "        print(a[i], end=\" \")"
   ]
  },
  {
   "cell_type": "code",
   "execution_count": 8,
   "metadata": {},
   "outputs": [
    {
     "name": "stdout",
     "output_type": "stream",
     "text": [
      "-1000000 1000000\n"
     ]
    }
   ],
   "source": [
    "\"\"\"\n",
    "2023-01-11\n",
    "박진휘\n",
    "코딩테스트 4-3\n",
    "\"\"\"\n",
    "n = int(input())\n",
    "li = list(map(int,input().split()))\n",
    "max, min = -1000000, 1000000\n",
    "for i in range(len(li)):\n",
    "    if li[i] > max:\n",
    "        max = li[i]\n",
    "    if li[i] < min:\n",
    "        min = li[i]\n",
    "print(min, max)"
   ]
  },
  {
   "cell_type": "code",
   "execution_count": 11,
   "metadata": {},
   "outputs": [
    {
     "name": "stdout",
     "output_type": "stream",
     "text": [
      "85\n",
      "6\n"
     ]
    }
   ],
   "source": [
    "\"\"\"\n",
    "2023-01-11\n",
    "박진휘\n",
    "코딩테스트 4-4\n",
    "\"\"\"\n",
    "max, sum = 0, 0\n",
    "for i in range(1,10):\n",
    "    n = int(input())\n",
    "    if n > max:\n",
    "        max = n\n",
    "        sum = i\n",
    "print(max)\n",
    "print(sum)"
   ]
  },
  {
   "cell_type": "code",
   "execution_count": 18,
   "metadata": {},
   "outputs": [
    {
     "name": "stdout",
     "output_type": "stream",
     "text": [
      "2\n",
      "8\n"
     ]
    }
   ],
   "source": [
    "\"\"\"\n",
    "2023-01-11\n",
    "박진휘\n",
    "코딩테스트 4-5\n",
    "\"\"\"\n",
    "li = [0 for i in range(30)]\n",
    "for i in range(1,29):\n",
    "    n = int(input())\n",
    "    li[n-1] = 1\n",
    "for j in range(30):\n",
    "    if li[j] == 0:\n",
    "        print(j+1)\n"
   ]
  },
  {
   "cell_type": "code",
   "execution_count": 21,
   "metadata": {},
   "outputs": [
    {
     "name": "stdout",
     "output_type": "stream",
     "text": [
      "4\n"
     ]
    }
   ],
   "source": [
    "\"\"\"\n",
    "2023-01-11\n",
    "박진휘\n",
    "코딩테스트 4-6\n",
    "\"\"\"\n",
    "a = set()\n",
    "for i in range(10):\n",
    "    n = int(input())\n",
    "    a.add(n % 42)\n",
    "print(len(a))\n",
    "    \n"
   ]
  },
  {
   "cell_type": "code",
   "execution_count": 48,
   "metadata": {},
   "outputs": [
    {
     "name": "stdout",
     "output_type": "stream",
     "text": [
      "66.66666666666667\n"
     ]
    }
   ],
   "source": [
    "\"\"\"\n",
    "2023-01-11\n",
    "박진휘\n",
    "코딩테스트 4-7\n",
    "\"\"\"\n",
    "num = int(input())\n",
    "test_list = list(map(int, input().split()))\n",
    "max_text = max(test_list)\n",
    "\n",
    "total = 0\n",
    "for i in range(len(test_list)):\n",
    "    total += test_list[i] / max_text * 100\n",
    "\n",
    "print(total / len(test_list))"
   ]
  },
  {
   "cell_type": "code",
   "execution_count": 56,
   "metadata": {},
   "outputs": [
    {
     "name": "stdout",
     "output_type": "stream",
     "text": [
      "10\n",
      "9\n",
      "7\n",
      "0\n",
      "0\n"
     ]
    }
   ],
   "source": [
    "\"\"\"\n",
    "2023-01-11\n",
    "박진휘\n",
    "코딩테스트 4-8\n",
    "\"\"\"\n",
    "n = int(input())\n",
    "\n",
    "for i in range(n):\n",
    "    test = list(input())\n",
    "    test_list = list(test)\n",
    "\n",
    "    tot = 0\n",
    "    x = 1\n",
    "    for j in range(len(test_list)):\n",
    "        if test_list[j] == 'O':\n",
    "            tot += x\n",
    "            x += 1\n",
    "        else:\n",
    "            x = 1\n",
    "    print(tot)"
   ]
  },
  {
   "cell_type": "code",
   "execution_count": 6,
   "metadata": {},
   "outputs": [
    {
     "name": "stdout",
     "output_type": "stream",
     "text": [
      "40.000%\n"
     ]
    }
   ],
   "source": [
    "\"\"\"\n",
    "2023-01-11\n",
    "박진휘\n",
    "코딩테스트 4-9\n",
    "\"\"\"\n",
    "c = int(input())\n",
    "\n",
    "for i in range(c):\n",
    "    n = list(map(float, input().split()))\n",
    "    div = sum(n[1:]) / n[0]\n",
    "    count = 0\n",
    "    for s in n[1:]:\n",
    "        if div < s:\n",
    "            count += 1\n",
    "    result = count / n[0] * 100\n",
    "    print(\"{:.3f}%\".format(result))"
   ]
  }
 ],
 "metadata": {
  "kernelspec": {
   "display_name": "Python 3",
   "language": "python",
   "name": "python3"
  },
  "language_info": {
   "codemirror_mode": {
    "name": "ipython",
    "version": 3
   },
   "file_extension": ".py",
   "mimetype": "text/x-python",
   "name": "python",
   "nbconvert_exporter": "python",
   "pygments_lexer": "ipython3",
   "version": "3.11.1 (tags/v3.11.1:a7a450f, Dec  6 2022, 19:58:39) [MSC v.1934 64 bit (AMD64)]"
  },
  "orig_nbformat": 4,
  "vscode": {
   "interpreter": {
    "hash": "dbf767e0f0bb1fc4f1157b01ec74c1ba7962a2f75d955d0a0d402480431f3979"
   }
  }
 },
 "nbformat": 4,
 "nbformat_minor": 2
}
