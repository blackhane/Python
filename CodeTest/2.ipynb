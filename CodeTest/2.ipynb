{
 "cells": [
  {
   "cell_type": "code",
   "execution_count": 1,
   "metadata": {},
   "outputs": [],
   "source": [
    "\"\"\"\n",
    "날짜 : 2023-01-03\n",
    "이름 : 박진휘\n",
    "내용 : 2-1번 문제\n",
    "\"\"\"\n",
    "a, b = input().split()\n",
    "\n",
    "a = int(a)\n",
    "b = int(b)\n",
    "\n",
    "if a > b:\n",
    "    print(\">\")\n",
    "elif a == b:\n",
    "    print(\"==\")\n",
    "else:\n",
    "    print(\"<\")"
   ]
  },
  {
   "cell_type": "code",
   "execution_count": null,
   "metadata": {},
   "outputs": [],
   "source": [
    "\"\"\"\n",
    "날짜 : 2023-01-03\n",
    "이름 : 박진휘\n",
    "내용 : 2-2번 문제\n",
    "\"\"\"\n",
    "rs = input()\n",
    "\n",
    "rs = int(rs)\n",
    "\n",
    "if 100 >= rs >= 90:\n",
    "    print(\"A\")\n",
    "elif 90 > rs >= 80:\n",
    "    print(\"B\")\n",
    "elif 80 > rs >= 70:\n",
    "    print(\"C\")\n",
    "elif 70 > rs >= 60:\n",
    "    print(\"D\")\n",
    "else:\n",
    "    print(\"F\")"
   ]
  },
  {
   "cell_type": "code",
   "execution_count": null,
   "metadata": {},
   "outputs": [],
   "source": [
    "\"\"\"\n",
    "날짜 : 2023-01-03\n",
    "이름 : 박진휘\n",
    "내용 : 2-3번 문제\n",
    "\"\"\"\n",
    "year = input()\n",
    "\n",
    "year = int(year)\n",
    "\n",
    "if year % 4 == 0 and year % 100 != 0 or year % 400 == 0:\n",
    "    print(1)\n",
    "else:\n",
    "    print(0)"
   ]
  },
  {
   "cell_type": "code",
   "execution_count": null,
   "metadata": {},
   "outputs": [],
   "source": [
    "\"\"\"\n",
    "날짜 : 2023-01-03\n",
    "이름 : 박진휘\n",
    "내용 : 2-4번 문제\n",
    "\"\"\"\n",
    "x = input()\n",
    "y = input()\n",
    "\n",
    "x = int(x)\n",
    "y = int(y)\n",
    "\n",
    "if x > 0 and y > 0:\n",
    "    print(1)\n",
    "elif x < 0 and y > 0:\n",
    "    print(2)\n",
    "elif x < 0 and y < 0:\n",
    "    print(3)\n",
    "else:\n",
    "    print(4)"
   ]
  },
  {
   "cell_type": "code",
   "execution_count": null,
   "metadata": {},
   "outputs": [],
   "source": [
    "\"\"\"\n",
    "날짜 : 2023-01-03\n",
    "이름 : 박진휘\n",
    "내용 : 2-5번 문제\n",
    "\"\"\"\n",
    "h,m = input().split()\n",
    "h = int(h)\n",
    "m = int(m)\n",
    "\n",
    "if m >= 45:\n",
    "    m -= 45\n",
    "    print(h, m)\n",
    "else:\n",
    "    h -= 1\n",
    "    if h == -1:\n",
    "        h = 23\n",
    "    m = 60 + (m-45)\n",
    "    print(h,m)"
   ]
  },
  {
   "cell_type": "code",
   "execution_count": null,
   "metadata": {},
   "outputs": [],
   "source": [
    "\"\"\"\n",
    "날짜 : 2023-01-03\n",
    "이름 : 박진휘\n",
    "내용 : 2-6번 문제\n",
    "\"\"\"\n",
    "a,b = input().split()\n",
    "c = input()\n",
    "a = int(a)\n",
    "b = int(b)\n",
    "c = int(c)\n",
    "\n",
    "if b+c <= 59:\n",
    "    b = b+c\n",
    "    print(a, b)\n",
    "else:\n",
    "    a += (b+c) // 60\n",
    "    if a >= 24:\n",
    "        a -= 24\n",
    "    b = (b+c) % 60\n",
    "    print(a, b)"
   ]
  },
  {
   "cell_type": "code",
   "execution_count": 19,
   "metadata": {},
   "outputs": [
    {
     "name": "stdout",
     "output_type": "stream",
     "text": [
      "300\n"
     ]
    }
   ],
   "source": [
    "\"\"\"\n",
    "날짜 : 2023-01-03\n",
    "이름 : 박진휘\n",
    "내용 : 2-7번 문제\n",
    "\"\"\"\n",
    "a,b,c = input().split()\n",
    "\n",
    "a = int(a)\n",
    "b = int(b)\n",
    "c = int(c)\n",
    "\n",
    "if a == b == c:\n",
    "    print(10000 + a * 1000)\n",
    "elif a == b or a == c:\n",
    "    print(1000 + a * 100)\n",
    "elif b == c:\n",
    "    print(1000 + b * 100)\n",
    "else:\n",
    "    if a > b and a > c:\n",
    "        print(a * 100)\n",
    "    elif b > c:\n",
    "        print(b * 100)\n",
    "    else:\n",
    "        print(c * 100)"
   ]
  }
 ],
 "metadata": {
  "kernelspec": {
   "display_name": "Python 3",
   "language": "python",
   "name": "python3"
  },
  "language_info": {
   "codemirror_mode": {
    "name": "ipython",
    "version": 3
   },
   "file_extension": ".py",
   "mimetype": "text/x-python",
   "name": "python",
   "nbconvert_exporter": "python",
   "pygments_lexer": "ipython3",
   "version": "3.11.1 (tags/v3.11.1:a7a450f, Dec  6 2022, 19:58:39) [MSC v.1934 64 bit (AMD64)]"
  },
  "orig_nbformat": 4,
  "vscode": {
   "interpreter": {
    "hash": "ca3167030a8377a7b82d5e665b459d458267ba920e721652be188ae573e682bb"
   }
  }
 },
 "nbformat": 4,
 "nbformat_minor": 2
}
