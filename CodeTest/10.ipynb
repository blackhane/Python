{
 "cells": [
  {
   "cell_type": "code",
   "execution_count": 3,
   "metadata": {},
   "outputs": [
    {
     "name": "stdout",
     "output_type": "stream",
     "text": [
      "1\n",
      "2\n",
      "3\n",
      "4\n",
      "5\n"
     ]
    }
   ],
   "source": [
    "\"\"\"\n",
    "날짜 : 2023-01-23\n",
    "이름 : 박진휘\n",
    "내용 : 코딩테스트 10-1\n",
    "\"\"\"\n",
    "n = int(input())\n",
    "\n",
    "li = []\n",
    "for i in range(0, n):\n",
    "    x = int(input())\n",
    "    li.append(x)\n",
    "li.sort()\n",
    "\n",
    "for j in li:\n",
    "    print(j)"
   ]
  },
  {
   "cell_type": "code",
   "execution_count": 4,
   "metadata": {},
   "outputs": [
    {
     "name": "stdout",
     "output_type": "stream",
     "text": [
      "34\n",
      "30\n"
     ]
    }
   ],
   "source": [
    "\"\"\"\n",
    "날짜 : 2023-01-23\n",
    "이름 : 박진휘\n",
    "내용 : 코딩테스트 10-2\n",
    "\"\"\"\n",
    "li = []\n",
    "for i in range(0, 5):\n",
    "    x = int(input())\n",
    "    li.append(x)\n",
    "li.sort()\n",
    "print(sum(li)//5)\n",
    "print(li[2])"
   ]
  },
  {
   "cell_type": "code",
   "execution_count": 15,
   "metadata": {},
   "outputs": [
    {
     "name": "stdout",
     "output_type": "stream",
     "text": [
      "[100, 98]\n"
     ]
    }
   ],
   "source": [
    "\"\"\"\n",
    "날짜 : 2023-01-23\n",
    "이름 : 박진휘\n",
    "내용 : 코딩테스트 10-3\n",
    "\"\"\"\n",
    "n, k = map(int, input().split())\n",
    "li = list(map(int, input().split()))\n",
    "li.sort(reverse=True)\n",
    "print(min(li[:k]))"
   ]
  },
  {
   "cell_type": "code",
   "execution_count": null,
   "metadata": {},
   "outputs": [],
   "source": [
    "\"\"\"\n",
    "날짜 : 2023-01-\n",
    "이름 : 박진휘\n",
    "내용 : 코딩테스트 10-4\n",
    "\"\"\""
   ]
  },
  {
   "cell_type": "code",
   "execution_count": 16,
   "metadata": {},
   "outputs": [
    {
     "name": "stdout",
     "output_type": "stream",
     "text": [
      "1\n",
      "1\n",
      "2\n",
      "2\n",
      "3\n",
      "3\n",
      "4\n",
      "5\n",
      "5\n",
      "7\n"
     ]
    }
   ],
   "source": [
    "\"\"\"\n",
    "날짜 : 2023-01-2\n",
    "이름 : 박진휘\n",
    "내용 : 코딩테스트 10-5\n",
    "\"\"\""
   ]
  },
  {
   "cell_type": "code",
   "execution_count": null,
   "metadata": {},
   "outputs": [],
   "source": [
    "\"\"\"\n",
    "날짜 : 2023-01-\n",
    "이름 : 박진휘\n",
    "내용 : 코딩테스트 10-6\n",
    "\"\"\""
   ]
  },
  {
   "cell_type": "code",
   "execution_count": null,
   "metadata": {},
   "outputs": [],
   "source": [
    "\"\"\"\n",
    "날짜 : 2023-01-\n",
    "이름 : 박진휘\n",
    "내용 : 코딩테스트 10-7\n",
    "\"\"\""
   ]
  },
  {
   "cell_type": "code",
   "execution_count": null,
   "metadata": {},
   "outputs": [],
   "source": [
    "\"\"\"\n",
    "날짜 : 2023-01-\n",
    "이름 : 박진휘\n",
    "내용 : 코딩테스트 10-8\n",
    "\"\"\""
   ]
  },
  {
   "cell_type": "code",
   "execution_count": null,
   "metadata": {},
   "outputs": [],
   "source": [
    "\"\"\"\n",
    "날짜 : 2023-01-\n",
    "이름 : 박진휘\n",
    "내용 : 코딩테스트 10-9\n",
    "\"\"\""
   ]
  },
  {
   "cell_type": "code",
   "execution_count": null,
   "metadata": {},
   "outputs": [],
   "source": [
    "\"\"\"\n",
    "날짜 : 2023-01-\n",
    "이름 : 박진휘\n",
    "내용 : 코딩테스트 10-10\n",
    "\"\"\""
   ]
  },
  {
   "cell_type": "code",
   "execution_count": null,
   "metadata": {},
   "outputs": [],
   "source": [
    "\"\"\"\n",
    "날짜 : 2023-01-\n",
    "이름 : 박진휘\n",
    "내용 : 코딩테스트 10-11\n",
    "\"\"\""
   ]
  },
  {
   "cell_type": "code",
   "execution_count": null,
   "metadata": {},
   "outputs": [],
   "source": [
    "\"\"\"\n",
    "날짜 : 2023-01-\n",
    "이름 : 박진휘\n",
    "내용 : 코딩테스트 10-12\n",
    "\"\"\""
   ]
  }
 ],
 "metadata": {
  "kernelspec": {
   "display_name": "Python 3",
   "language": "python",
   "name": "python3"
  },
  "language_info": {
   "codemirror_mode": {
    "name": "ipython",
    "version": 3
   },
   "file_extension": ".py",
   "mimetype": "text/x-python",
   "name": "python",
   "nbconvert_exporter": "python",
   "pygments_lexer": "ipython3",
   "version": "3.11.1"
  },
  "orig_nbformat": 4,
  "vscode": {
   "interpreter": {
    "hash": "dbf767e0f0bb1fc4f1157b01ec74c1ba7962a2f75d955d0a0d402480431f3979"
   }
  }
 },
 "nbformat": 4,
 "nbformat_minor": 2
}
