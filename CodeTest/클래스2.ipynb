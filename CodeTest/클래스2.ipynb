{
 "cells": [
  {
   "cell_type": "code",
   "execution_count": null,
   "metadata": {},
   "outputs": [],
   "source": [
    "\"\"\"\n",
    "2023-01-14\n",
    "박진휘\n",
    "클래스2 1259번\n",
    "\"\"\"\n",
    "while True:\n",
    "    n = input()\n",
    "    if n == '0':\n",
    "        break\n",
    "\n",
    "    a = list(n)\n",
    "    b = list(n)\n",
    "    b.reverse()\n",
    "    if a == b:\n",
    "        print(\"yes\")\n",
    "    else:\n",
    "        print(\"no\")"
   ]
  },
  {
   "cell_type": "code",
   "execution_count": 49,
   "metadata": {},
   "outputs": [
    {
     "name": "stdout",
     "output_type": "stream",
     "text": [
      "1\n"
     ]
    }
   ],
   "source": [
    "\"\"\"\n",
    "2023-01-14\n",
    "박진휘\n",
    "클래스2 1018번\n",
    "\"\"\"\n",
    "str1 = \"WBWBWBWB\"\n",
    "str2 = \"BWBWBWBW\"\n",
    "white_case = [str1, str2, str1, str2, str1, str2, str1, str2]\n",
    "black_case = [str2, str1, str2, str1, str2, str1, str2, str1]\n",
    "#보드판 사이즈\n",
    "n, m = map(int, input().split())\n",
    "\n",
    "array = []\n",
    "for i in range(n):\n",
    "    array.append(input())\n",
    "\n",
    "rs = float(\"inf\")\n",
    "#체스판 자르기\n",
    "for i in range(n-7):\n",
    "    for j in range(m-7):\n",
    "        cnt = 0\n",
    "        for x in range(8):\n",
    "            for y in range(8):\n",
    "                if array[i+x][j+y] != white_case[x][y]:\n",
    "                    cnt += 1\n",
    "        rs = min(rs, cnt)\n",
    "        cnt = 0\n",
    "        for x in range(8):\n",
    "            for y in range(8):\n",
    "                if array[i+x][j+y] != black_case[x][y]:\n",
    "                    cnt += 1\n",
    "        rs = min(rs, cnt)\n",
    "\n",
    "print(rs)\n",
    "\n"
   ]
  },
  {
   "cell_type": "code",
   "execution_count": 4,
   "metadata": {},
   "outputs": [
    {
     "name": "stdout",
     "output_type": "stream",
     "text": [
      "161\n"
     ]
    }
   ],
   "source": [
    "\"\"\"\n",
    "2023-01-15\n",
    "박진휘\n",
    "클래스2 1085번\n",
    "\"\"\"\n",
    "x, y, w, h = map(int, input().split())\n",
    "r1 = x\n",
    "r2 = y\n",
    "r3 = w - x\n",
    "r4 = h - y\n",
    "print(min(r1, r2, r3, r4))"
   ]
  },
  {
   "cell_type": "code",
   "execution_count": 2,
   "metadata": {},
   "outputs": [
    {
     "ename": "ValueError",
     "evalue": "not enough values to unpack (expected 3, got 1)",
     "output_type": "error",
     "traceback": [
      "\u001b[1;31m---------------------------------------------------------------------------\u001b[0m",
      "\u001b[1;31mValueError\u001b[0m                                Traceback (most recent call last)",
      "Cell \u001b[1;32mIn[2], line 8\u001b[0m\n\u001b[0;32m      6\u001b[0m \u001b[39mimport\u001b[39;00m \u001b[39mmath\u001b[39;00m\n\u001b[0;32m      7\u001b[0m \u001b[39mwhile\u001b[39;00m \u001b[39mTrue\u001b[39;00m:\n\u001b[1;32m----> 8\u001b[0m     x, y, z \u001b[39m=\u001b[39m \u001b[39mmap\u001b[39m(\u001b[39mint\u001b[39m, \u001b[39minput\u001b[39m()\u001b[39m.\u001b[39msplit())\n\u001b[0;32m      9\u001b[0m     \u001b[39mif\u001b[39;00m x \u001b[39m==\u001b[39m \u001b[39m0\u001b[39m \u001b[39mand\u001b[39;00m y \u001b[39m==\u001b[39m \u001b[39m0\u001b[39m \u001b[39mand\u001b[39;00m z \u001b[39m==\u001b[39m \u001b[39m0\u001b[39m:\n\u001b[0;32m     10\u001b[0m         \u001b[39mbreak\u001b[39;00m\n",
      "\u001b[1;31mValueError\u001b[0m: not enough values to unpack (expected 3, got 1)"
     ]
    }
   ],
   "source": [
    "\"\"\"\n",
    "2023-01-15\n",
    "박진휘\n",
    "클래스2 4153번\n",
    "\"\"\"\n",
    "import math\n",
    "while True:\n",
    "    x, y, z = map(int, input().split())\n",
    "    if x == 0 and y == 0 and z == 0:\n",
    "        break\n",
    "\n",
    "    if math.pow(x, 2) + math.pow(y, 2) == math.pow(z, 2):\n",
    "        print(\"right\")\n",
    "        \n",
    "    elif math.pow(x, 2) + math.pow(z, 2) == math.pow(y, 2):\n",
    "        print(\"right\")\n",
    "        \n",
    "    elif math.pow(y, 2) + math.pow(z, 2) == math.pow(x, 2):\n",
    "        print(\"right\")    \n",
    "    else:\n",
    "        print(\"wrong\")"
   ]
  },
  {
   "cell_type": "code",
   "execution_count": 47,
   "metadata": {},
   "outputs": [
    {
     "name": "stdout",
     "output_type": "stream",
     "text": [
      "601\n",
      "102\n"
     ]
    }
   ],
   "source": [
    "\"\"\"\n",
    "2023-01-15\n",
    "박진휘\n",
    "클래스2 10250번\n",
    "\"\"\"\n",
    "t = int(input())\n",
    "\n",
    "for i in range(t):\n",
    "    h, w, n = map(int, input().split())\n",
    "    floor = n % h\n",
    "    room = (n // h) + 1\n",
    "    if floor == 0:\n",
    "        floor = h\n",
    "        room -= 1\n",
    "    print(room + floor * 100)"
   ]
  },
  {
   "cell_type": "code",
   "execution_count": 51,
   "metadata": {},
   "outputs": [
    {
     "name": "stdout",
     "output_type": "stream",
     "text": [
      "6\n",
      "72\n"
     ]
    }
   ],
   "source": [
    "\"\"\"\n",
    "2023-01-15\n",
    "박진휘\n",
    "클래스2 2609번\n",
    "\"\"\"\n",
    "import math\n",
    "x, y = map(int, input().split())\n",
    "\n",
    "lcm = math.lcm(x, y)\n",
    "gcd = math.gcd(x, y)\n",
    "print(gcd)\n",
    "print(lcm)"
   ]
  },
  {
   "cell_type": "code",
   "execution_count": 62,
   "metadata": {},
   "outputs": [],
   "source": [
    "\"\"\"\n",
    "2023-01-15\n",
    "박진휘\n",
    "클래스2 2231번\n",
    "\"\"\"\n",
    "n = int(input())\n",
    "\n",
    "for i in range(1, n+1):\n",
    "    m = list(map(int, str(i)))\n",
    "    rs = i + sum(m)\n",
    "\n",
    "    if rs == n:\n",
    "        print(i)\n",
    "        break\n",
    "    if n == i:\n",
    "        print(0)\n",
    "\n"
   ]
  },
  {
   "cell_type": "code",
   "execution_count": 71,
   "metadata": {},
   "outputs": [
    {
     "name": "stdout",
     "output_type": "stream",
     "text": [
      "[1, 2, 3, 4, 5, 6, 7, 8, 9, 10]\n",
      "[1, 3, 6, 10, 15, 21, 28, 36, 45, 55]\n",
      "[1, 4, 10, 20, 35, 56, 84, 120, 165, 220]\n",
      "[1, 5, 15, 35, 70, 126, 210, 330, 495, 715]\n",
      "[1, 6, 21, 56, 126, 252, 462, 792, 1287, 2002]\n",
      "[1, 7, 28, 84, 210, 462, 924, 1716, 3003, 5005]\n",
      "[1, 8, 36, 120, 330, 792, 1716, 3432, 6435, 11440]\n",
      "[1, 9, 45, 165, 495, 1287, 3003, 6435, 12870, 24310]\n",
      "[1, 10, 55, 220, 715, 2002, 5005, 11440, 24310, 48620]\n",
      "[1, 11, 66, 286, 1001, 3003, 8008, 19448, 43758, 92378]\n",
      "[1, 12, 78, 364, 1365, 4368, 12376, 31824, 75582, 167960]\n",
      "167960\n"
     ]
    }
   ],
   "source": [
    "\"\"\"\n",
    "2023-01-15\n",
    "박진휘\n",
    "클래스2 2775번\n",
    "\"\"\"\n",
    "t = int(input())\n",
    "\n",
    "for i in range(t):\n",
    "    floor = int(input())\n",
    "    room = int(input())\n",
    "\n",
    "    f0 = [x for x in range(1, room+1)]\n",
    "\n",
    "    for j in range(floor):\n",
    "        new = []\n",
    "        for k in range(room):\n",
    "            new.append(sum(f0[:k+1]))\n",
    "        f0 = new.copy()\n",
    "        \n",
    "    print(f0[-1])"
   ]
  },
  {
   "cell_type": "code",
   "execution_count": null,
   "metadata": {},
   "outputs": [],
   "source": []
  },
  {
   "cell_type": "code",
   "execution_count": null,
   "metadata": {},
   "outputs": [],
   "source": []
  },
  {
   "cell_type": "code",
   "execution_count": null,
   "metadata": {},
   "outputs": [],
   "source": []
  }
 ],
 "metadata": {
  "kernelspec": {
   "display_name": "Python 3",
   "language": "python",
   "name": "python3"
  },
  "language_info": {
   "codemirror_mode": {
    "name": "ipython",
    "version": 3
   },
   "file_extension": ".py",
   "mimetype": "text/x-python",
   "name": "python",
   "nbconvert_exporter": "python",
   "pygments_lexer": "ipython3",
   "version": "3.11.1"
  },
  "orig_nbformat": 4,
  "vscode": {
   "interpreter": {
    "hash": "dbf767e0f0bb1fc4f1157b01ec74c1ba7962a2f75d955d0a0d402480431f3979"
   }
  }
 },
 "nbformat": 4,
 "nbformat_minor": 2
}
