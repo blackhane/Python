{
 "cells": [
  {
   "cell_type": "code",
   "execution_count": 100,
   "metadata": {},
   "outputs": [
    {
     "name": "stdout",
     "output_type": "stream",
     "text": [
      "0\n"
     ]
    }
   ],
   "source": [
    "\"\"\"\n",
    "2023-01-17\n",
    "박진휘\n",
    "코딩테스트 8-1\n",
    "\"\"\"\n",
    "t = int(input())\n",
    "n = map(int, input().split())\n",
    "result = 0\n",
    "for i in n:\n",
    "    err = 0\n",
    "    if i > 1:\n",
    "        for j in range(2, i):\n",
    "            if i % j == 0:\n",
    "                err = 1\n",
    "        if err == 0:\n",
    "            result += 1\n",
    "print(result)"
   ]
  },
  {
   "cell_type": "code",
   "execution_count": 168,
   "metadata": {},
   "outputs": [
    {
     "name": "stdout",
     "output_type": "stream",
     "text": [
      "620\n",
      "61\n"
     ]
    }
   ],
   "source": [
    "\"\"\"\n",
    "2023-01-17\n",
    "박진휘\n",
    "코딩테스트 8-2\n",
    "\"\"\"\n",
    "import math\n",
    "\n",
    "def sosu(x):\n",
    "    for i in range(2, x):\n",
    "        if x % i == 0:\n",
    "            return 0\n",
    "    return 1\n",
    "\n",
    "m = int(input())\n",
    "n = int(input())\n",
    "ori = [i for i in range(m, n+1)]\n",
    "new = []\n",
    "for i in ori:\n",
    "    if i == 1:\n",
    "        continue\n",
    "    if sosu(i):\n",
    "        new.append(i)\n",
    "\n",
    "if len(new) > 0:\n",
    "    print(sum(new))\n",
    "    print(min(new))\n",
    "else:\n",
    "    print(\"-1\")"
   ]
  },
  {
   "cell_type": "code",
   "execution_count": 176,
   "metadata": {},
   "outputs": [
    {
     "name": "stdout",
     "output_type": "stream",
     "text": [
      "2\n",
      "2\n",
      "2\n",
      "3\n",
      "3\n"
     ]
    }
   ],
   "source": [
    "\"\"\"\n",
    "2023-01-17\n",
    "박진휘\n",
    "코딩테스트 8-3\n",
    "\"\"\"\n",
    "n = int(input())\n",
    "num = 2\n",
    "while True:\n",
    "    if n == 1:\n",
    "        break\n",
    "    if n % num == 0:\n",
    "        n = n // num\n",
    "        print(num)\n",
    "        continue\n",
    "    else:\n",
    "        num += 1"
   ]
  },
  {
   "cell_type": "code",
   "execution_count": null,
   "metadata": {},
   "outputs": [],
   "source": [
    "\"\"\"\n",
    "2023-01-17\n",
    "박진휘\n",
    "코딩테스트 8-5\n",
    "\"\"\""
   ]
  },
  {
   "cell_type": "code",
   "execution_count": null,
   "metadata": {},
   "outputs": [],
   "source": [
    "\"\"\"\n",
    "2023-01-17\n",
    "박진휘\n",
    "코딩테스트 8-6\n",
    "\"\"\""
   ]
  }
 ],
 "metadata": {
  "kernelspec": {
   "display_name": "Python 3",
   "language": "python",
   "name": "python3"
  },
  "language_info": {
   "codemirror_mode": {
    "name": "ipython",
    "version": 3
   },
   "file_extension": ".py",
   "mimetype": "text/x-python",
   "name": "python",
   "nbconvert_exporter": "python",
   "pygments_lexer": "ipython3",
   "version": "3.11.1"
  },
  "orig_nbformat": 4,
  "vscode": {
   "interpreter": {
    "hash": "dbf767e0f0bb1fc4f1157b01ec74c1ba7962a2f75d955d0a0d402480431f3979"
   }
  }
 },
 "nbformat": 4,
 "nbformat_minor": 2
}
