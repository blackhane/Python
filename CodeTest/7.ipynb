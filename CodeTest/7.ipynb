{
 "cells": [
  {
   "cell_type": "code",
   "execution_count": 17,
   "metadata": {},
   "outputs": [
    {
     "name": "stdout",
     "output_type": "stream",
     "text": [
      "11\n"
     ]
    }
   ],
   "source": [
    "\"\"\"\n",
    "2023-01-17\n",
    "박진휘\n",
    "코딩테스트 7-1\n",
    "\"\"\"\n",
    "a, b, c = map(int, input().split())\n",
    "\n",
    "if b >= c:\n",
    "    print(\"-1\")\n",
    "else:\n",
    "    print(int(a//(c-b)+1))"
   ]
  },
  {
   "cell_type": "code",
   "execution_count": 30,
   "metadata": {},
   "outputs": [
    {
     "name": "stdout",
     "output_type": "stream",
     "text": [
      "3\n"
     ]
    }
   ],
   "source": [
    "\"\"\"\n",
    "2023-01-17\n",
    "박진휘\n",
    "코딩테스트 7-2\n",
    "\"\"\"\n",
    "n = int(input())\n",
    "cnt = 1\n",
    "start = 2\n",
    "end = 7\n",
    "if n == 1:\n",
    "    print(cnt)\n",
    "else:\n",
    "    while True:\n",
    "        cnt += 1\n",
    "        if start <= n and n <= end:\n",
    "            break\n",
    "        start = end + 1\n",
    "        end = end + cnt * 6\n",
    "    print(cnt)"
   ]
  },
  {
   "cell_type": "code",
   "execution_count": 46,
   "metadata": {},
   "outputs": [
    {
     "name": "stdout",
     "output_type": "stream",
     "text": [
      "1/5\n"
     ]
    }
   ],
   "source": [
    "\"\"\"\n",
    "2023-01-17\n",
    "박진휘\n",
    "코딩테스트 7-3\n",
    "\"\"\"\n",
    "x = int(input())\n",
    "\n",
    "#x가 몇번째 라인?\n",
    "line = 0\n",
    "end = 0\n",
    "\n",
    "while end < x:\n",
    "    line += 1\n",
    "    end += line\n",
    "\n",
    "y = end - x\n",
    "\n",
    "if line % 2 == 0:\n",
    "    top = line - y\n",
    "    bottom = y + 1\n",
    "else:\n",
    "    top = y + 1\n",
    "    bottom = line - y\n",
    "\n",
    "print(\"{}/{}\".format(top,bottom))\n"
   ]
  },
  {
   "cell_type": "code",
   "execution_count": 72,
   "metadata": {},
   "outputs": [
    {
     "name": "stdout",
     "output_type": "stream",
     "text": [
      "4\n"
     ]
    }
   ],
   "source": [
    "\"\"\"\n",
    "2023-01-17\n",
    "박진휘\n",
    "코딩테스트 7-4\n",
    "\"\"\"\n",
    "import math\n",
    "a, b, v = map(int, input().split())\n",
    "print(math.ceil((v-a) / (a-b))+1)"
   ]
  },
  {
   "cell_type": "code",
   "execution_count": null,
   "metadata": {},
   "outputs": [],
   "source": [
    "\"\"\"\n",
    "2023-01-17\n",
    "박진휘\n",
    "코딩테스트 7-5\n",
    "\"\"\""
   ]
  },
  {
   "cell_type": "code",
   "execution_count": 78,
   "metadata": {},
   "outputs": [
    {
     "name": "stdout",
     "output_type": "stream",
     "text": [
      "4\n"
     ]
    }
   ],
   "source": [
    "\"\"\"\n",
    "2023-01-17\n",
    "박진휘\n",
    "코딩테스트 7-6\n",
    "\"\"\"\n"
   ]
  },
  {
   "cell_type": "code",
   "execution_count": null,
   "metadata": {},
   "outputs": [],
   "source": [
    "\"\"\"\n",
    "2023-01-17\n",
    "박진휘\n",
    "코딩테스트 7-7\n",
    "\"\"\"\n",
    "n = int(input())\n",
    "if n % 5 == 0:\n",
    "    print(n//5)\n",
    "else:\n",
    "    count = 0\n",
    "    while True:\n",
    "        n -= 3\n",
    "        count += 1\n",
    "        if n % 5 == 0:\n",
    "            count += n //5\n",
    "            print(count)\n",
    "            break\n",
    "        elif n == 1 or n == 2:\n",
    "            print(\"-1\")\n",
    "            break\n",
    "        elif n == 0:\n",
    "            print(count)\n",
    "            break"
   ]
  },
  {
   "cell_type": "code",
   "execution_count": 3,
   "metadata": {},
   "outputs": [
    {
     "name": "stdout",
     "output_type": "stream",
     "text": [
      "18446744073709551615\n"
     ]
    }
   ],
   "source": [
    "\"\"\"\n",
    "2023-01-17\n",
    "박진휘\n",
    "코딩테스트 7-8\n",
    "\"\"\"\n",
    "a, b = map(int, input().split())\n",
    "print(a+b)"
   ]
  }
 ],
 "metadata": {
  "kernelspec": {
   "display_name": "Python 3",
   "language": "python",
   "name": "python3"
  },
  "language_info": {
   "codemirror_mode": {
    "name": "ipython",
    "version": 3
   },
   "file_extension": ".py",
   "mimetype": "text/x-python",
   "name": "python",
   "nbconvert_exporter": "python",
   "pygments_lexer": "ipython3",
   "version": "3.11.1 (tags/v3.11.1:a7a450f, Dec  6 2022, 19:58:39) [MSC v.1934 64 bit (AMD64)]"
  },
  "orig_nbformat": 4,
  "vscode": {
   "interpreter": {
    "hash": "dbf767e0f0bb1fc4f1157b01ec74c1ba7962a2f75d955d0a0d402480431f3979"
   }
  }
 },
 "nbformat": 4,
 "nbformat_minor": 2
}
