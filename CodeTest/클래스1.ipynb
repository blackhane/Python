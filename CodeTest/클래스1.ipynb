{
 "cells": [
  {
   "cell_type": "code",
   "execution_count": null,
   "metadata": {},
   "outputs": [],
   "source": [
    "\"\"\"\n",
    "2023-01-14\n",
    "박진휘\n",
    "클래스1\n",
    "\"\"\""
   ]
  },
  {
   "cell_type": "code",
   "execution_count": 18,
   "metadata": {},
   "outputs": [
    {
     "name": "stdout",
     "output_type": "stream",
     "text": [
      "descending\n"
     ]
    }
   ],
   "source": [
    "#2920번\n",
    "li = list(map(int, input().split()))\n",
    "\n",
    "err = 0\n",
    "for i in range(7):\n",
    "    r1 = abs(li[i] - li[i+1])\n",
    "    if not r1 == 1:\n",
    "        err += 1\n",
    "\n",
    "if li[0] == 1 and li[7] == 8 and err == 0:\n",
    "    print(\"ascending\")\n",
    "elif li[0] == 8 and li[7] == 1 and err == 0:\n",
    "    print(\"descending\")\n",
    "else:\n",
    "    print(\"mixed\")"
   ]
  },
  {
   "cell_type": "code",
   "execution_count": 45,
   "metadata": {},
   "outputs": [
    {
     "name": "stdout",
     "output_type": "stream",
     "text": [
      "3\n",
      "1\n",
      "0\n",
      "2\n",
      "0\n",
      "0\n",
      "0\n",
      "2\n",
      "0\n",
      "0\n"
     ]
    }
   ],
   "source": [
    "#2577번\n",
    "from collections import Counter\n",
    "a = int(input())\n",
    "b = int(input())\n",
    "c = int(input())\n",
    "multi = list(str(a * b * c))\n",
    "\n",
    "new_list = []\n",
    "for j in range(10):\n",
    "    print(multi.count(str(j)))\n"
   ]
  },
  {
   "cell_type": "code",
   "execution_count": 46,
   "metadata": {},
   "outputs": [
    {
     "name": "stdout",
     "output_type": "stream",
     "text": [
      "5\n",
      "4\n",
      "3\n",
      "2\n",
      "1\n"
     ]
    }
   ],
   "source": [
    "#2742번\n",
    "n = int(input())\n",
    "\n",
    "for i in range(n):\n",
    "    print(n-i)"
   ]
  }
 ],
 "metadata": {
  "kernelspec": {
   "display_name": "Python 3",
   "language": "python",
   "name": "python3"
  },
  "language_info": {
   "codemirror_mode": {
    "name": "ipython",
    "version": 3
   },
   "file_extension": ".py",
   "mimetype": "text/x-python",
   "name": "python",
   "nbconvert_exporter": "python",
   "pygments_lexer": "ipython3",
   "version": "3.11.1 (tags/v3.11.1:a7a450f, Dec  6 2022, 19:58:39) [MSC v.1934 64 bit (AMD64)]"
  },
  "orig_nbformat": 4,
  "vscode": {
   "interpreter": {
    "hash": "dbf767e0f0bb1fc4f1157b01ec74c1ba7962a2f75d955d0a0d402480431f3979"
   }
  }
 },
 "nbformat": 4,
 "nbformat_minor": 2
}
