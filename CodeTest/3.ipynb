{
 "cells": [
  {
   "cell_type": "code",
   "execution_count": 2,
   "metadata": {},
   "outputs": [
    {
     "name": "stdout",
     "output_type": "stream",
     "text": [
      "2 * 1 = 2\n",
      "2 * 2 = 4\n",
      "2 * 3 = 6\n",
      "2 * 4 = 8\n",
      "2 * 5 = 10\n",
      "2 * 6 = 12\n",
      "2 * 7 = 14\n",
      "2 * 8 = 16\n",
      "2 * 9 = 18\n"
     ]
    }
   ],
   "source": [
    "\"\"\"\n",
    "2023-01-10\n",
    "박진휘\n",
    "코딩테스트 3-1\n",
    "\"\"\"\n",
    "n = int(input())\n",
    "for i in range(1,10):\n",
    "    print('{} * {} = {}'.format(n,i,n*i))"
   ]
  },
  {
   "cell_type": "code",
   "execution_count": 3,
   "metadata": {},
   "outputs": [
    {
     "name": "stdout",
     "output_type": "stream",
     "text": [
      "2\n",
      "5\n",
      "7\n",
      "17\n",
      "7\n"
     ]
    }
   ],
   "source": [
    "\"\"\"\n",
    "2023-01-10\n",
    "박진휘\n",
    "코딩테스트 3-2\n",
    "\"\"\"\n",
    "t = int(input())\n",
    "for i in range(t):\n",
    "    a, b = map(int,input().split())\n",
    "    print(a + b)"
   ]
  },
  {
   "cell_type": "code",
   "execution_count": 4,
   "metadata": {},
   "outputs": [
    {
     "name": "stdout",
     "output_type": "stream",
     "text": [
      "6\n"
     ]
    }
   ],
   "source": [
    "\"\"\"\n",
    "2023-01-10\n",
    "박진휘\n",
    "코딩테스트 3-3\n",
    "\"\"\"\n",
    "n = int(input())\n",
    "tot = 0\n",
    "for i in range(1, n+1):\n",
    "    tot += i\n",
    "print(tot)"
   ]
  },
  {
   "cell_type": "code",
   "execution_count": 7,
   "metadata": {},
   "outputs": [
    {
     "name": "stdout",
     "output_type": "stream",
     "text": [
      "Yes\n"
     ]
    }
   ],
   "source": [
    "\"\"\"\n",
    "2023-01-10\n",
    "박진휘\n",
    "코딩테스트 3-4\n",
    "\"\"\"\n",
    "x = int(input())\n",
    "n = int(input())\n",
    "tot = 0\n",
    "for i in range(n):\n",
    "    a, b = map(int,input().split())\n",
    "    tot += (a * b)\n",
    "if x == tot:\n",
    "    print('Yes')\n",
    "else:\n",
    "    print('No')"
   ]
  },
  {
   "cell_type": "code",
   "execution_count": null,
   "metadata": {},
   "outputs": [],
   "source": [
    "\"\"\"\n",
    "2023-01-10\n",
    "박진휘\n",
    "코딩테스트 3-6\n",
    "\"\"\"\n",
    "t = int(input())\n",
    "for i in range (t):\n",
    "    a, b = map(int,input().split())\n",
    "    print('Case #{}: {}'.format(i+1, a+b))"
   ]
  },
  {
   "cell_type": "code",
   "execution_count": null,
   "metadata": {},
   "outputs": [],
   "source": [
    "\"\"\"\n",
    "2023-01-10\n",
    "박진휘\n",
    "코딩테스트 3-7\n",
    "\"\"\"\n",
    "t = int(input())\n",
    "for i in range (t):\n",
    "    a, b = map(int,input().split())\n",
    "    print('Case #{}: {} + {} = {}'.format(i+1, a, b, a+b))"
   ]
  },
  {
   "cell_type": "code",
   "execution_count": 19,
   "metadata": {},
   "outputs": [],
   "source": [
    "\"\"\"\n",
    "2023-01-10\n",
    "박진휘\n",
    "코딩테스트 3-8\n",
    "\"\"\"\n",
    "n = int(input())\n",
    "for i in range(1,n+1):\n",
    "    for j in range(1,i+1):\n",
    "        print('*', end=\"\")\n",
    "    print()"
   ]
  },
  {
   "cell_type": "code",
   "execution_count": 29,
   "metadata": {},
   "outputs": [
    {
     "name": "stdout",
     "output_type": "stream",
     "text": [
      "    *\n",
      "   **\n",
      "  ***\n",
      " ****\n",
      "*****\n"
     ]
    }
   ],
   "source": [
    "\"\"\"\n",
    "2023-01-10\n",
    "박진휘\n",
    "코딩테스트 3-9\n",
    "\"\"\"\n",
    "n = int(input())\n",
    "for i in range(1,n+1):\n",
    "    for j in range(n-i):\n",
    "        print(' ', end=\"\")\n",
    "    for k in range(i):\n",
    "        print('*', end=\"\")\n",
    "    print()"
   ]
  },
  {
   "cell_type": "code",
   "execution_count": null,
   "metadata": {},
   "outputs": [],
   "source": [
    "\"\"\"\n",
    "2023-01-10\n",
    "박진휘\n",
    "코딩테스트 3-10\n",
    "\"\"\"\n",
    "while True:\n",
    "    a, b = map(int,input().split())\n",
    "    if a==0 and b==0:\n",
    "        break\n",
    "    print(a+b)"
   ]
  },
  {
   "cell_type": "code",
   "execution_count": null,
   "metadata": {},
   "outputs": [],
   "source": [
    "\"\"\"\n",
    "2023-01-10\n",
    "박진휘\n",
    "코딩테스트 3-11\n",
    "\"\"\"\n",
    "while True:\n",
    "    try:\n",
    "        a, b = map(int,input().split())\n",
    "        print(a+b)\n",
    "    except:\n",
    "        break"
   ]
  },
  {
   "cell_type": "code",
   "execution_count": 2,
   "metadata": {},
   "outputs": [
    {
     "name": "stdout",
     "output_type": "stream",
     "text": [
      "4\n"
     ]
    }
   ],
   "source": [
    "\"\"\"\n",
    "2023-01-10\n",
    "박진휘\n",
    "코딩테스트 3-12\n",
    "\"\"\"\n",
    "n = int(input())\n",
    "num = n\n",
    "count = 0\n",
    "while True:\n",
    "    a = n//10\n",
    "    b = n%10\n",
    "    c = a+b\n",
    "    n = (b*10)+(c%10)\n",
    "    count += 1\n",
    "    if num == n:\n",
    "        break\n",
    "print(count)"
   ]
  }
 ],
 "metadata": {
  "kernelspec": {
   "display_name": "Python 3",
   "language": "python",
   "name": "python3"
  },
  "language_info": {
   "codemirror_mode": {
    "name": "ipython",
    "version": 3
   },
   "file_extension": ".py",
   "mimetype": "text/x-python",
   "name": "python",
   "nbconvert_exporter": "python",
   "pygments_lexer": "ipython3",
   "version": "3.11.1"
  },
  "orig_nbformat": 4,
  "vscode": {
   "interpreter": {
    "hash": "dbf767e0f0bb1fc4f1157b01ec74c1ba7962a2f75d955d0a0d402480431f3979"
   }
  }
 },
 "nbformat": 4,
 "nbformat_minor": 2
}
