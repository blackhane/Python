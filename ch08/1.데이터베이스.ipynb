{
 "cells": [
  {
   "cell_type": "code",
   "execution_count": 1,
   "metadata": {},
   "outputs": [],
   "source": [
    "\"\"\"\n",
    "날짜 : 2023-01-13\n",
    "이름 : 박진휘\n",
    "내용 : 파이썬 데이터베이스 실습하기\n",
    "pip install pymysql\n",
    "\"\"\"\n",
    "import pymysql"
   ]
  },
  {
   "cell_type": "code",
   "execution_count": 3,
   "metadata": {},
   "outputs": [
    {
     "name": "stdout",
     "output_type": "stream",
     "text": [
      "Insert 완료\n"
     ]
    }
   ],
   "source": [
    "#Insert\n",
    "\n",
    "#데이터베이스 접속\n",
    "conn = pymysql.connect(host='127.0.0.1', \n",
    "                user='root', \n",
    "                password='1234', \n",
    "                db='java1db', \n",
    "                charset='UTF8')\n",
    "\n",
    "#SQL 실행객체\n",
    "cur = conn.cursor()\n",
    "\n",
    "#SQL 실행\n",
    "sql = \"insert into `user1` values ('p101','1234','홍길동','000-1111-222',20)\"\n",
    "cur.execute(sql)\n",
    "conn.commit()\n",
    "\n",
    "#데이터베이스 종료\n",
    "conn.close()\n",
    "\n",
    "print('Insert 완료')"
   ]
  },
  {
   "cell_type": "code",
   "execution_count": 4,
   "metadata": {},
   "outputs": [
    {
     "name": "stdout",
     "output_type": "stream",
     "text": [
      "Update 완료\n"
     ]
    }
   ],
   "source": [
    "#Update\n",
    "\n",
    "#데이터베이스 접속\n",
    "conn = pymysql.connect(host='127.0.0.1', \n",
    "                user='root', \n",
    "                password='1234', \n",
    "                db='java1db', \n",
    "                charset='UTF8')\n",
    "\n",
    "#SQL 실행객체\n",
    "cur = conn.cursor()\n",
    "\n",
    "#SQL 실행\n",
    "sql = \"update `user1` set `name`='고길동', `age`='40' where `uid`='p101'\"\n",
    "cur.execute(sql)\n",
    "conn.commit()\n",
    "\n",
    "#데이터베이스 종료\n",
    "conn.close()\n",
    "\n",
    "print('Update 완료')"
   ]
  },
  {
   "cell_type": "code",
   "execution_count": 6,
   "metadata": {},
   "outputs": [
    {
     "name": "stdout",
     "output_type": "stream",
     "text": [
      "Delete 완료\n"
     ]
    }
   ],
   "source": [
    "#Delete\n",
    "\n",
    "#데이터베이스 접속\n",
    "conn = pymysql.connect(host='127.0.0.1', \n",
    "                user='root', \n",
    "                password='1234', \n",
    "                db='java1db', \n",
    "                charset='UTF8')\n",
    "\n",
    "#SQL 실행객체\n",
    "cur = conn.cursor()\n",
    "\n",
    "#SQL 실행\n",
    "sql = \"delete from `user1` where `uid`='p101'\"\n",
    "cur.execute(sql)\n",
    "conn.commit()\n",
    "\n",
    "#데이터베이스 종료\n",
    "conn.close()\n",
    "\n",
    "print('Delete 완료')"
   ]
  },
  {
   "cell_type": "code",
   "execution_count": 9,
   "metadata": {},
   "outputs": [
    {
     "name": "stdout",
     "output_type": "stream",
     "text": [
      "[('A102', '1234', '김춘추', '010-1234-2222', 25), ('A104', None, '강감찬', '010-1234-4444', 45), ('A105', None, '이순신', '010-1234-5555', 51), ('11', None, '11', '11', 11), ('22', None, '22', '22', 22), ('33', None, '33', '33', 33), ('66', None, '66', '66', 66)]\n",
      "Select 완료\n"
     ]
    }
   ],
   "source": [
    "#Select\n",
    "\n",
    "#데이터베이스 접속\n",
    "conn = pymysql.connect(host='127.0.0.1', \n",
    "                user='root', \n",
    "                password='1234', \n",
    "                db='java1db', \n",
    "                charset='UTF8')\n",
    "\n",
    "#SQL 실행객체\n",
    "cur = conn.cursor()\n",
    "\n",
    "#SQL 실행\n",
    "sql = \"select * from `user1`\"\n",
    "cur.execute(sql)\n",
    "conn.commit()\n",
    "\n",
    "#데이터 출력\n",
    "user = []\n",
    "for row in cur.fetchall():\n",
    "    user.append(row)\n",
    "\n",
    "#데이터베이스 종료\n",
    "conn.close()\n",
    "\n",
    "print(user)\n",
    "print('Select 완료')"
   ]
  }
 ],
 "metadata": {
  "kernelspec": {
   "display_name": "Python 3",
   "language": "python",
   "name": "python3"
  },
  "language_info": {
   "codemirror_mode": {
    "name": "ipython",
    "version": 3
   },
   "file_extension": ".py",
   "mimetype": "text/x-python",
   "name": "python",
   "nbconvert_exporter": "python",
   "pygments_lexer": "ipython3",
   "version": "3.11.1"
  },
  "orig_nbformat": 4,
  "vscode": {
   "interpreter": {
    "hash": "ca3167030a8377a7b82d5e665b459d458267ba920e721652be188ae573e682bb"
   }
  }
 },
 "nbformat": 4,
 "nbformat_minor": 2
}
