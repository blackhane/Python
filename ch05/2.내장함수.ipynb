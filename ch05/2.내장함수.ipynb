{
 "cells": [
  {
   "cell_type": "code",
   "execution_count": 43,
   "metadata": {},
   "outputs": [],
   "source": [
    "\"\"\"\n",
    "날짜 : 2023-01-10\n",
    "이름 : 박진휘\n",
    "내용 : 파이썬 내장함수 실습하기\n",
    "\"\"\"\n",
    "import time\n",
    "import math\n",
    "import random"
   ]
  },
  {
   "cell_type": "code",
   "execution_count": 44,
   "metadata": {},
   "outputs": [
    {
     "name": "stdout",
     "output_type": "stream",
     "text": [
      "t1 :  1673321991.1098497\n",
      "t2 :  Tue Jan 10 12:39:51 2023\n",
      "2023년 01월 10일 12시 39분 51초\n"
     ]
    }
   ],
   "source": [
    "#시간\n",
    "t1 = time.time()\n",
    "print(\"t1 : \", t1) #Unix time\n",
    "\n",
    "t2 = time.ctime()\n",
    "print(\"t2 : \", t2) #변환된 Unix time\n",
    "\n",
    "now = time.localtime(time.time())\n",
    "year = time.strftime('%Y', now)\n",
    "month = time.strftime('%m', now)\n",
    "day = time.strftime('%d', now)\n",
    "hour = time.strftime('%H', now)\n",
    "min = time.strftime('%M', now)\n",
    "sec = time.strftime('%S', now)\n",
    "\n",
    "print('{}년 {}월 {}일 {}시 {}분 {}초'.format(year,month,day,hour,min,sec))"
   ]
  },
  {
   "cell_type": "code",
   "execution_count": 45,
   "metadata": {},
   "outputs": [
    {
     "name": "stdout",
     "output_type": "stream",
     "text": [
      "2\n",
      "2\n",
      "1\n",
      "1\n",
      "1\n",
      "2\n",
      "3.0\n"
     ]
    }
   ],
   "source": [
    "#수학\n",
    "r1 = math.ceil(1.2)\n",
    "r2 = math.ceil(1.9)\n",
    "r3 = math.floor(1.2)\n",
    "r4 = math.floor(1.9)\n",
    "r5 = round(1.2)\n",
    "r6 = round(1.9)\n",
    "r7 = math.sqrt(9)\n",
    "\n",
    "print(r1)\n",
    "print(r2)\n",
    "print(r3)\n",
    "print(r4)\n",
    "print(r5)\n",
    "print(r6)\n",
    "print(r7)"
   ]
  },
  {
   "cell_type": "code",
   "execution_count": 74,
   "metadata": {},
   "outputs": [
    {
     "name": "stdout",
     "output_type": "stream",
     "text": [
      "0.20934994366636084\n",
      "2.0934994366636084\n",
      "3\n",
      "3\n",
      "2\n",
      "9\n"
     ]
    }
   ],
   "source": [
    "#랜덤\n",
    "n1 = random.random()\n",
    "print(n1)\n",
    "\n",
    "n2 = n1 * 10\n",
    "print(n2)\n",
    "\n",
    "n3 = math.ceil(n2)\n",
    "print(n3)\n",
    "\n",
    "n4 = math.ceil(random.random() * 10)\n",
    "print(n4)\n",
    "\n",
    "n5 = random.randrange(1,10)\n",
    "n6 = random.randint(1,10)\n",
    "print(n5)\n",
    "print(n6)"
   ]
  }
 ],
 "metadata": {
  "kernelspec": {
   "display_name": "Python 3",
   "language": "python",
   "name": "python3"
  },
  "language_info": {
   "codemirror_mode": {
    "name": "ipython",
    "version": 3
   },
   "file_extension": ".py",
   "mimetype": "text/x-python",
   "name": "python",
   "nbconvert_exporter": "python",
   "pygments_lexer": "ipython3",
   "version": "3.11.1"
  },
  "orig_nbformat": 4,
  "vscode": {
   "interpreter": {
    "hash": "ca3167030a8377a7b82d5e665b459d458267ba920e721652be188ae573e682bb"
   }
  }
 },
 "nbformat": 4,
 "nbformat_minor": 2
}
