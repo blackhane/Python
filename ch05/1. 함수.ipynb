{
 "cells": [
  {
   "cell_type": "code",
   "execution_count": null,
   "metadata": {},
   "outputs": [],
   "source": [
    "\"\"\"\n",
    "날짜 : 2023-01-10\n",
    "이름 : 박진휘\n",
    "내용 : 파이썬 함수 실습하기\n",
    "\"\"\""
   ]
  },
  {
   "cell_type": "code",
   "execution_count": 2,
   "metadata": {},
   "outputs": [
    {
     "name": "stdout",
     "output_type": "stream",
     "text": [
      "5\n",
      "7\n",
      "9\n"
     ]
    }
   ],
   "source": [
    "#함수\n",
    "def f(x):\n",
    "    y = 2 * x + 3\n",
    "    return y\n",
    "\n",
    "rs1 = f(1)\n",
    "rs2 = f(2)\n",
    "rs3 = f(3)\n",
    "\n",
    "print(rs1)\n",
    "print(rs2)\n",
    "print(rs3)"
   ]
  },
  {
   "cell_type": "code",
   "execution_count": 8,
   "metadata": {},
   "outputs": [
    {
     "name": "stdout",
     "output_type": "stream",
     "text": [
      "3\n",
      "helloworld\n",
      "15\n",
      "15\n",
      "55\n"
     ]
    }
   ],
   "source": [
    "#함수타입\n",
    "def type1(x, y):\n",
    "    z = x + y\n",
    "    return z\n",
    "\n",
    "def type2(dataset):\n",
    "    tot = 0\n",
    "    for data in dataset:\n",
    "        tot += data\n",
    "    print(tot)\n",
    "\n",
    "def type3():\n",
    "    dataset = [n for n in range(11)]\n",
    "    tot = 0\n",
    "    for k in dataset:\n",
    "        tot += k\n",
    "    return tot\n",
    "\n",
    "rs1 = type1(1, 2)\n",
    "rs2 = type1('hello', 'world')\n",
    "print(rs1)\n",
    "print(rs2)\n",
    "\n",
    "dataset1 = [1,2,3,4,5]\n",
    "dataset2 = (1,2,3,4,5)\n",
    "type2(dataset1)\n",
    "type2(dataset2)\n",
    "\n",
    "rs3 = type3()\n",
    "print(rs3)"
   ]
  },
  {
   "cell_type": "code",
   "execution_count": 11,
   "metadata": {},
   "outputs": [
    {
     "name": "stdout",
     "output_type": "stream",
     "text": [
      "name :  홍길동\n",
      "age :  20\n",
      "None\n",
      "name :  김유신\n",
      "age :  20\n",
      "None\n",
      "name :  김춘추\n",
      "age :  24\n",
      "None\n"
     ]
    }
   ],
   "source": [
    "#디폴트 매개변수\n",
    "def hello(name='홍길동', age=20):\n",
    "    print('name : ', name)\n",
    "    print('age : ', age)\n",
    "\n",
    "print(hello())\n",
    "print(hello('김유신'))\n",
    "print(hello('김춘추', 24))"
   ]
  },
  {
   "cell_type": "code",
   "execution_count": 14,
   "metadata": {},
   "outputs": [
    {
     "ename": "SyntaxError",
     "evalue": "invalid syntax (716441768.py, line 2)",
     "output_type": "error",
     "traceback": [
      "\u001b[1;36m  Cell \u001b[1;32mIn[14], line 2\u001b[1;36m\u001b[0m\n\u001b[1;33m    def total(item...):\u001b[0m\n\u001b[1;37m                  ^\u001b[0m\n\u001b[1;31mSyntaxError\u001b[0m\u001b[1;31m:\u001b[0m invalid syntax\n"
     ]
    }
   ],
   "source": [
    "#가변 매개변수\n",
    "def total(*item):\n",
    "    tot = 0\n",
    "    for i in item:\n",
    "        tot += i\n",
    "    return tot\n",
    "print(total(1,2,3,4,5,6,7,8,9,10))\n",
    "print(total(1,2,3,4,5))"
   ]
  },
  {
   "cell_type": "code",
   "execution_count": 16,
   "metadata": {},
   "outputs": [
    {
     "name": "stdout",
     "output_type": "stream",
     "text": [
      "3 2\n"
     ]
    }
   ],
   "source": [
    "#하나 이상 리턴값을 가지는 함수\n",
    "def sumMulti(x, y):\n",
    "    y1 = x + y\n",
    "    y2 = x * y\n",
    "    \n",
    "    return y1, y2\n",
    "\n",
    "r1, r2 = sumMulti(1, 2)\n",
    "print(r1, r2)"
   ]
  },
  {
   "cell_type": "code",
   "execution_count": 19,
   "metadata": {},
   "outputs": [
    {
     "name": "stdout",
     "output_type": "stream",
     "text": [
      "3 -1\n",
      "3\n",
      "-1\n"
     ]
    }
   ],
   "source": [
    "#변수에 저장하는 함수\n",
    "def plus(x, y):\n",
    "    return x + y\n",
    "def minus(x, y):\n",
    "    return x - y\n",
    "\n",
    "var1 = plus\n",
    "var2 = minus\n",
    "\n",
    "r1 = var1(1,2)\n",
    "r2 = var2(1,2)\n",
    "\n",
    "print(r1, r2)\n",
    "\n",
    "defs = [plus, minus]\n",
    "\n",
    "r3 = defs[0](1,2)\n",
    "r4 = defs[1](1,2)\n",
    "\n",
    "print(r3)\n",
    "print(r4)"
   ]
  },
  {
   "cell_type": "code",
   "execution_count": 20,
   "metadata": {},
   "outputs": [
    {
     "name": "stdout",
     "output_type": "stream",
     "text": [
      "3 -1\n"
     ]
    }
   ],
   "source": [
    "#람다함수\n",
    "lamb1 = lambda x, y : x + y\n",
    "lamb2 = lambda x, y : x - y\n",
    "\n",
    "r1 = lamb1(1,2)\n",
    "r2 = lamb2(1,2)\n",
    "\n",
    "print(r1, r2)"
   ]
  }
 ],
 "metadata": {
  "kernelspec": {
   "display_name": "Python 3",
   "language": "python",
   "name": "python3"
  },
  "language_info": {
   "codemirror_mode": {
    "name": "ipython",
    "version": 3
   },
   "file_extension": ".py",
   "mimetype": "text/x-python",
   "name": "python",
   "nbconvert_exporter": "python",
   "pygments_lexer": "ipython3",
   "version": "3.11.1"
  },
  "orig_nbformat": 4,
  "vscode": {
   "interpreter": {
    "hash": "ca3167030a8377a7b82d5e665b459d458267ba920e721652be188ae573e682bb"
   }
  }
 },
 "nbformat": 4,
 "nbformat_minor": 2
}
